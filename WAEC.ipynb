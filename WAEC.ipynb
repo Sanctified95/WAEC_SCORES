{
 "cells": [
  {
   "cell_type": "code",
   "execution_count": 3,
   "metadata": {},
   "outputs": [
    {
     "name": "stdout",
     "output_type": "stream",
     "text": [
      "That's an F9\n"
     ]
    }
   ],
   "source": [
    "WAEC_SCORE = (int(input(\"what is your WAEC score? \")))\n",
    "if WAEC_SCORE >=0 and WAEC_SCORE <= 39:\n",
    "    print(\"That's an F9\")\n",
    "elif WAEC_SCORE>39 and WAEC_SCORE <= 44:\n",
    "    print(\"That's a E8, a weak pass\")\n",
    "elif WAEC_SCORE >44 and WAEC_SCORE <= 49:\n",
    "    print(\"D7, pass\")\n",
    "elif WAEC_SCORE >49 and WAEC_SCORE <= 54:\n",
    "    print(\"C6, a low credit\")\n",
    "elif WAEC_SCORE >54 and WAEC_SCORE <= 59:\n",
    "    print(\"C5, a little bit better than C6\")\n",
    "elif WAEC_SCORE >59 and WAEC_SCORE <= 64:\n",
    "    print(\"Whew! That's a C4\")\n",
    "elif WAEC_SCORE >64 and WAEC_SCORE <= 69:\n",
    "    print(\"That's a B3\")\n",
    "elif WAEC_SCORE >69 and WAEC_SCORE <= 74:\n",
    "    print(\"It's a B2\")\n",
    "elif WAEC_SCORE >74 and WAEC_SCORE <= 100:\n",
    "    print(\"A1! Bravo!!\")\n",
    "else:\n",
    "    print(\"please input a valid score\")"
   ]
  },
  {
   "cell_type": "code",
   "execution_count": null,
   "metadata": {},
   "outputs": [],
   "source": []
  }
 ],
 "metadata": {
  "kernelspec": {
   "display_name": "Python 3",
   "language": "python",
   "name": "python3"
  },
  "language_info": {
   "codemirror_mode": {
    "name": "ipython",
    "version": 3
   },
   "file_extension": ".py",
   "mimetype": "text/x-python",
   "name": "python",
   "nbconvert_exporter": "python",
   "pygments_lexer": "ipython3",
   "version": "3.6.5"
  }
 },
 "nbformat": 4,
 "nbformat_minor": 2
}
